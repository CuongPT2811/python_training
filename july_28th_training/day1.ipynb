{
 "cells": [
  {
   "cell_type": "code",
   "execution_count": null,
   "id": "80774a90",
   "metadata": {},
   "outputs": [],
   "source": [
    "a = 1\n",
    "b = 1.2\n",
    "\n",
    "c = \"CuongPT\"\n",
    "\n",
    "d = True  #bool\n",
    "e = False #bool\n",
    "\n",
    "dict_ex = {\n",
    "    \"name\": \"CuongPT\",\n",
    "    \"age\": 30,\n",
    "    \"is_student\": False,\n",
    "    \"courses\": [\"Python\", \"JavaScript\", \"C++\"]} #dict with key-value pairs, can not have duplicate keys\n",
    "\n",
    "list_ex = [1, 2, 3, 4, 5]\n",
    "print(list_ex[-1])\n",
    "\n",
    "\n",
    "set_ex = {1, 2, 3, 4, 5} #diff from list, no duplicate values, same as dict keys, "
   ]
  }
 ],
 "metadata": {
  "kernelspec": {
   "display_name": "Python 3",
   "language": "python",
   "name": "python3"
  },
  "language_info": {
   "name": "python",
   "version": "3.10.12"
  }
 },
 "nbformat": 4,
 "nbformat_minor": 5
}
